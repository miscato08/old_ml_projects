{
 "cells": [
  {
   "cell_type": "markdown",
   "id": "023fcb35",
   "metadata": {},
   "source": [
    "# Iris flower dataset"
   ]
  },
  {
   "cell_type": "markdown",
   "id": "be168a56",
   "metadata": {},
   "source": [
    "Here you can read more about the dataset: https://en.wikipedia.org/wiki/Iris_flower_data_set"
   ]
  },
  {
   "cell_type": "markdown",
   "id": "f39037ba",
   "metadata": {},
   "source": [
    "### 1. Import the Data"
   ]
  },
  {
   "cell_type": "code",
   "execution_count": 1,
   "id": "c34c1ebc",
   "metadata": {},
   "outputs": [],
   "source": [
    "# import it from sklearn\n",
    "from sklearn.datasets import load_iris\n",
    "\n",
    "# instantiate it\n",
    "iris = load_iris()"
   ]
  },
  {
   "cell_type": "code",
   "execution_count": 2,
   "id": "7c88eab3",
   "metadata": {},
   "outputs": [
    {
     "data": {
      "text/plain": [
       "array([0, 0, 0, 0, 0, 0, 0, 0, 0, 0, 0, 0, 0, 0, 0, 0, 0, 0, 0, 0, 0, 0,\n",
       "       0, 0, 0, 0, 0, 0, 0, 0, 0, 0, 0, 0, 0, 0, 0, 0, 0, 0, 0, 0, 0, 0,\n",
       "       0, 0, 0, 0, 0, 0, 1, 1, 1, 1, 1, 1, 1, 1, 1, 1, 1, 1, 1, 1, 1, 1,\n",
       "       1, 1, 1, 1, 1, 1, 1, 1, 1, 1, 1, 1, 1, 1, 1, 1, 1, 1, 1, 1, 1, 1,\n",
       "       1, 1, 1, 1, 1, 1, 1, 1, 1, 1, 1, 1, 2, 2, 2, 2, 2, 2, 2, 2, 2, 2,\n",
       "       2, 2, 2, 2, 2, 2, 2, 2, 2, 2, 2, 2, 2, 2, 2, 2, 2, 2, 2, 2, 2, 2,\n",
       "       2, 2, 2, 2, 2, 2, 2, 2, 2, 2, 2, 2, 2, 2, 2, 2, 2, 2])"
      ]
     },
     "execution_count": 2,
     "metadata": {},
     "output_type": "execute_result"
    }
   ],
   "source": [
    "# we will be creating x and y\n",
    "iris.data # x = data\n",
    "iris.target # y = target\n",
    "\n",
    "# we can create a formel\n",
    "f(X) = y"
   ]
  },
  {
   "cell_type": "code",
   "execution_count": 5,
   "id": "27ed77b3",
   "metadata": {},
   "outputs": [],
   "source": [
    "X = iris.data # the images\n",
    "y = iris.target # to predict the species\n",
    "\n",
    "# because each items are features we can store thos names\n",
    "feature_names = iris.feature_names\n",
    "target_names = iris.target_names"
   ]
  },
  {
   "cell_type": "code",
   "execution_count": 7,
   "id": "7b85bba3",
   "metadata": {},
   "outputs": [
    {
     "data": {
      "text/plain": [
       "(['sepal length (cm)',\n",
       "  'sepal width (cm)',\n",
       "  'petal length (cm)',\n",
       "  'petal width (cm)'],\n",
       " array(['setosa', 'versicolor', 'virginica'], dtype='<U10'))"
      ]
     },
     "execution_count": 7,
     "metadata": {},
     "output_type": "execute_result"
    }
   ],
   "source": [
    "# if we print it we can see the columns and options\n",
    "feature_names, target_names"
   ]
  },
  {
   "cell_type": "code",
   "execution_count": 9,
   "id": "d83f22f2",
   "metadata": {},
   "outputs": [
    {
     "data": {
      "text/plain": [
       "numpy.ndarray"
      ]
     },
     "execution_count": 9,
     "metadata": {},
     "output_type": "execute_result"
    }
   ],
   "source": [
    "# quick view the type\n",
    "type(X) # will be numpy array"
   ]
  },
  {
   "cell_type": "markdown",
   "id": "40f716f7",
   "metadata": {},
   "source": [
    "### 2. Split into testing and training set"
   ]
  },
  {
   "cell_type": "code",
   "execution_count": 14,
   "id": "b6cd508c",
   "metadata": {},
   "outputs": [
    {
     "name": "stdout",
     "output_type": "stream",
     "text": [
      "(120, 4)\n",
      "(30, 4)\n"
     ]
    }
   ],
   "source": [
    "# will randomly split the data into train, test split\n",
    "from sklearn.model_selection import train_test_split\n",
    "\n",
    "# instantiate X test, train and y test, train\n",
    "X_train, X_test, y_train, y_test = train_test_split(X, y, test_size=0.2) # test size 20%\n",
    "\n",
    "# view the dimensionality\n",
    "print(X_train.shape)\n",
    "print(X_test.shape)"
   ]
  },
  {
   "cell_type": "markdown",
   "id": "53ff25d1",
   "metadata": {},
   "source": [
    "### 3. Create our Model\n",
    "We will be using the Nearest Neighbors Algorithm / Model, here you can read more about it - https://scikit-learn.org/stable/modules/neighbors.html\n",
    "\n",
    "Here you can read how the Model works - https://www.analyticsvidhya.com/blog/2018/08/k-nearest-neighbor-introduction-regression-python/\n",
    "\n",
    "* It is a classification model, which will Classify by dividing up the data in different segments\n",
    "* But there are so many algorithms -> Machine Learing Job is to find always the best one"
   ]
  },
  {
   "cell_type": "code",
   "execution_count": 23,
   "id": "e7d5469e",
   "metadata": {},
   "outputs": [
    {
     "data": {
      "text/html": [
       "<style>#sk-container-id-3 {color: black;background-color: white;}#sk-container-id-3 pre{padding: 0;}#sk-container-id-3 div.sk-toggleable {background-color: white;}#sk-container-id-3 label.sk-toggleable__label {cursor: pointer;display: block;width: 100%;margin-bottom: 0;padding: 0.3em;box-sizing: border-box;text-align: center;}#sk-container-id-3 label.sk-toggleable__label-arrow:before {content: \"▸\";float: left;margin-right: 0.25em;color: #696969;}#sk-container-id-3 label.sk-toggleable__label-arrow:hover:before {color: black;}#sk-container-id-3 div.sk-estimator:hover label.sk-toggleable__label-arrow:before {color: black;}#sk-container-id-3 div.sk-toggleable__content {max-height: 0;max-width: 0;overflow: hidden;text-align: left;background-color: #f0f8ff;}#sk-container-id-3 div.sk-toggleable__content pre {margin: 0.2em;color: black;border-radius: 0.25em;background-color: #f0f8ff;}#sk-container-id-3 input.sk-toggleable__control:checked~div.sk-toggleable__content {max-height: 200px;max-width: 100%;overflow: auto;}#sk-container-id-3 input.sk-toggleable__control:checked~label.sk-toggleable__label-arrow:before {content: \"▾\";}#sk-container-id-3 div.sk-estimator input.sk-toggleable__control:checked~label.sk-toggleable__label {background-color: #d4ebff;}#sk-container-id-3 div.sk-label input.sk-toggleable__control:checked~label.sk-toggleable__label {background-color: #d4ebff;}#sk-container-id-3 input.sk-hidden--visually {border: 0;clip: rect(1px 1px 1px 1px);clip: rect(1px, 1px, 1px, 1px);height: 1px;margin: -1px;overflow: hidden;padding: 0;position: absolute;width: 1px;}#sk-container-id-3 div.sk-estimator {font-family: monospace;background-color: #f0f8ff;border: 1px dotted black;border-radius: 0.25em;box-sizing: border-box;margin-bottom: 0.5em;}#sk-container-id-3 div.sk-estimator:hover {background-color: #d4ebff;}#sk-container-id-3 div.sk-parallel-item::after {content: \"\";width: 100%;border-bottom: 1px solid gray;flex-grow: 1;}#sk-container-id-3 div.sk-label:hover label.sk-toggleable__label {background-color: #d4ebff;}#sk-container-id-3 div.sk-serial::before {content: \"\";position: absolute;border-left: 1px solid gray;box-sizing: border-box;top: 0;bottom: 0;left: 50%;z-index: 0;}#sk-container-id-3 div.sk-serial {display: flex;flex-direction: column;align-items: center;background-color: white;padding-right: 0.2em;padding-left: 0.2em;position: relative;}#sk-container-id-3 div.sk-item {position: relative;z-index: 1;}#sk-container-id-3 div.sk-parallel {display: flex;align-items: stretch;justify-content: center;background-color: white;position: relative;}#sk-container-id-3 div.sk-item::before, #sk-container-id-3 div.sk-parallel-item::before {content: \"\";position: absolute;border-left: 1px solid gray;box-sizing: border-box;top: 0;bottom: 0;left: 50%;z-index: -1;}#sk-container-id-3 div.sk-parallel-item {display: flex;flex-direction: column;z-index: 1;position: relative;background-color: white;}#sk-container-id-3 div.sk-parallel-item:first-child::after {align-self: flex-end;width: 50%;}#sk-container-id-3 div.sk-parallel-item:last-child::after {align-self: flex-start;width: 50%;}#sk-container-id-3 div.sk-parallel-item:only-child::after {width: 0;}#sk-container-id-3 div.sk-dashed-wrapped {border: 1px dashed gray;margin: 0 0.4em 0.5em 0.4em;box-sizing: border-box;padding-bottom: 0.4em;background-color: white;}#sk-container-id-3 div.sk-label label {font-family: monospace;font-weight: bold;display: inline-block;line-height: 1.2em;}#sk-container-id-3 div.sk-label-container {text-align: center;}#sk-container-id-3 div.sk-container {/* jupyter's `normalize.less` sets `[hidden] { display: none; }` but bootstrap.min.css set `[hidden] { display: none !important; }` so we also need the `!important` here to be able to override the default hidden behavior on the sphinx rendered scikit-learn.org. See: https://github.com/scikit-learn/scikit-learn/issues/21755 */display: inline-block !important;position: relative;}#sk-container-id-3 div.sk-text-repr-fallback {display: none;}</style><div id=\"sk-container-id-3\" class=\"sk-top-container\"><div class=\"sk-text-repr-fallback\"><pre>KNeighborsClassifier(n_neighbors=3)</pre><b>In a Jupyter environment, please rerun this cell to show the HTML representation or trust the notebook. <br />On GitHub, the HTML representation is unable to render, please try loading this page with nbviewer.org.</b></div><div class=\"sk-container\" hidden><div class=\"sk-item\"><div class=\"sk-estimator sk-toggleable\"><input class=\"sk-toggleable__control sk-hidden--visually\" id=\"sk-estimator-id-3\" type=\"checkbox\" checked><label for=\"sk-estimator-id-3\" class=\"sk-toggleable__label sk-toggleable__label-arrow\">KNeighborsClassifier</label><div class=\"sk-toggleable__content\"><pre>KNeighborsClassifier(n_neighbors=3)</pre></div></div></div></div></div>"
      ],
      "text/plain": [
       "KNeighborsClassifier(n_neighbors=3)"
      ]
     },
     "execution_count": 23,
     "metadata": {},
     "output_type": "execute_result"
    }
   ],
   "source": [
    "# import the model\n",
    "from sklearn.neighbors import KNeighborsClassifier\n",
    "\n",
    "# give parameters, how many segments we want -> we have three flowers -> 3\n",
    "knn = KNeighborsClassifier(n_neighbors=3)\n",
    "# fit the model\n",
    "knn.fit(X_train, y_train)"
   ]
  },
  {
   "cell_type": "code",
   "execution_count": 24,
   "id": "74b83f90",
   "metadata": {},
   "outputs": [],
   "source": [
    "# start predictions\n",
    "y_preds = knn.predict(X_test)"
   ]
  },
  {
   "cell_type": "code",
   "execution_count": 25,
   "id": "ef8a1175",
   "metadata": {},
   "outputs": [
    {
     "data": {
      "text/plain": [
       "0.9333333333333333"
      ]
     },
     "execution_count": 25,
     "metadata": {},
     "output_type": "execute_result"
    }
   ],
   "source": [
    "# import metrics to view the score of our model\n",
    "from sklearn import metrics\n",
    "\n",
    "# our model scores 93%\n",
    "metrics.accuracy_score(y_test, y_preds)"
   ]
  },
  {
   "cell_type": "markdown",
   "id": "c0447e66",
   "metadata": {},
   "source": [
    "### 4. Improve our Model\n",
    "\n",
    "To improve our Model we can\n",
    "1. Change the test size - make it bigger or smaller\n",
    "2. We could potentionaly change the n_neighbors, but it isn't recommended\n",
    "3. We could add another feature from the dataset\n",
    "4. We could improve the algorithm / find a better one"
   ]
  },
  {
   "cell_type": "code",
   "execution_count": 35,
   "id": "6bf9f74b",
   "metadata": {},
   "outputs": [],
   "source": [
    "# import a different model\n",
    "from sklearn.tree import DecisionTreeClassifier\n",
    "\n",
    "# instantiate new model and new predictions\n",
    "dt = DecisionTreeClassifier()\n",
    "dt.fit(X_train, y_train)\n",
    "y_preds2 = dt.predict(X_test)"
   ]
  },
  {
   "cell_type": "code",
   "execution_count": 36,
   "id": "e3356ed7",
   "metadata": {},
   "outputs": [
    {
     "data": {
      "text/plain": [
       "0.9333333333333333"
      ]
     },
     "execution_count": 36,
     "metadata": {},
     "output_type": "execute_result"
    }
   ],
   "source": [
    "# import metrics to view the score of our model\n",
    "from sklearn import metrics\n",
    "\n",
    "# our model scores 93% - it doesn't change\n",
    "metrics.accuracy_score(y_test, y_preds2)"
   ]
  },
  {
   "cell_type": "markdown",
   "id": "263086fe",
   "metadata": {},
   "source": [
    "### 5. Some more\n",
    "\n",
    "Let's say a user uploaded a new image from a new photo of an iris flower - This is how we would do that\n",
    "\n",
    "Here we can see all parameters of the Dataset - https://www.kaggle.com/datasets/arshid/iris-flower-dataset"
   ]
  },
  {
   "cell_type": "code",
   "execution_count": 39,
   "id": "8b8ee9dd",
   "metadata": {},
   "outputs": [
    {
     "name": "stdout",
     "output_type": "stream",
     "text": [
      "predictions:  ['versicolor', 'virginica']\n"
     ]
    }
   ],
   "source": [
    "# create the images (with random numbers from kaggle dataset)\n",
    "sample = [[3,5,4,2], [2,3,5,4]]\n",
    "\n",
    "# create predictions\n",
    "predictions = knn.predict(sample)\n",
    "# create list with prediction species\n",
    "pred_species = [iris.target_names[p] for p in predictions]\n",
    "\n",
    "# print the predictions\n",
    "print(\"predictions: \", pred_species)"
   ]
  },
  {
   "cell_type": "markdown",
   "id": "366afefa",
   "metadata": {},
   "source": [
    "### 6. Export our Model\n",
    "\n",
    "For this we will be using the joblib library from sklearn, here you can more - https://scikit-learn.org/stable/model_persistence.html\n",
    "\n",
    "Here more about the library - https://pypi.org/project/joblib/ , https://joblib.readthedocs.io/en/stable/\n",
    "\n",
    "* Now we created a trained model, which we could use for applications. \n",
    "\n",
    "But we problem - our model isn't really good, because normally you would train it on millions of rows, but this is really time consuming\n",
    "\n",
    "* Model Presistance - if a user inputs a thing we don't want to retrain everything -> save the model to a file\n",
    "\n",
    "If you are on a iphone the model is already there and not gets always retrained\n"
   ]
  },
  {
   "cell_type": "code",
   "execution_count": 44,
   "id": "a0299528",
   "metadata": {},
   "outputs": [
    {
     "data": {
      "text/plain": [
       "['mlbrain.joblib']"
      ]
     },
     "execution_count": 44,
     "metadata": {},
     "output_type": "execute_result"
    }
   ],
   "source": [
    "# import \n",
    "from joblib import dump, load\n",
    "\n",
    "# save the model / dump it into a file\n",
    "dump(knn, 'mlbrain.joblib') # will store into a binary file"
   ]
  },
  {
   "cell_type": "code",
   "execution_count": 48,
   "id": "e6ce0470",
   "metadata": {},
   "outputs": [
    {
     "name": "stdout",
     "output_type": "stream",
     "text": [
      "predictions:  ['versicolor', 'virginica']\n"
     ]
    }
   ],
   "source": [
    "# instead of retraining the model we can do this\n",
    "model = load('mlbrain.joblib')\n",
    "\n",
    "# now we can predict again\n",
    "sample = [[3,5,4,2], [2,3,5,4]]\n",
    "\n",
    "# create predictions\n",
    "predictions = model.predict(sample)\n",
    "# create list with prediction species\n",
    "pred_species = [iris.target_names[p] for p in predictions]\n",
    "\n",
    "# print the predictions\n",
    "print(\"predictions: \", pred_species)"
   ]
  },
  {
   "cell_type": "code",
   "execution_count": null,
   "id": "c7a685fa",
   "metadata": {},
   "outputs": [],
   "source": []
  }
 ],
 "metadata": {
  "kernelspec": {
   "display_name": "Python 3 (ipykernel)",
   "language": "python",
   "name": "python3"
  },
  "language_info": {
   "codemirror_mode": {
    "name": "ipython",
    "version": 3
   },
   "file_extension": ".py",
   "mimetype": "text/x-python",
   "name": "python",
   "nbconvert_exporter": "python",
   "pygments_lexer": "ipython3",
   "version": "3.10.13"
  }
 },
 "nbformat": 4,
 "nbformat_minor": 5
}
